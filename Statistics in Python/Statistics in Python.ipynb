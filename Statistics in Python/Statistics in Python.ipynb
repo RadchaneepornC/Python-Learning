{
  "cells": [
    {
      "cell_type": "markdown",
      "source": [
        "# **Introduction to Statistics in Python**"
      ],
      "metadata": {
        "id": "hi0m9z52F6F-"
      }
    },
    {
      "cell_type": "markdown",
      "source": [
        "## **Types of statistics**"
      ],
      "metadata": {
        "id": "Fvw5TWX3F-fb"
      }
    },
    {
      "cell_type": "markdown",
      "source": [
        "### **Descriptive statistics**"
      ],
      "metadata": {
        "id": "YcT-oSlLF-Y6"
      }
    },
    {
      "cell_type": "markdown",
      "source": [
        "### **Inferential statistics**"
      ],
      "metadata": {
        "id": "d_hsfeQrGTsu"
      }
    },
    {
      "cell_type": "markdown",
      "source": [
        "## **Types of data**"
      ],
      "metadata": {
        "id": "ay8JgG4mF-cU"
      }
    },
    {
      "cell_type": "markdown",
      "source": [
        "### **Numeric (Quantitative)**"
      ],
      "metadata": {
        "id": "4GCnDjc-F-Vj"
      }
    },
    {
      "cell_type": "markdown",
      "source": [
        "#### **Continuous (Measured)**"
      ],
      "metadata": {
        "id": "qrLacH4cGh39"
      }
    },
    {
      "cell_type": "markdown",
      "source": [
        "#### **Discrete (Counted)**"
      ],
      "metadata": {
        "id": "crg0jSFYGpqE"
      }
    },
    {
      "cell_type": "markdown",
      "source": [
        "### **Categorical (Qualitative)**"
      ],
      "metadata": {
        "id": "XIdhk50iF-MD"
      }
    },
    {
      "cell_type": "markdown",
      "source": [
        "#### **Nominal (Unordered)**"
      ],
      "metadata": {
        "id": "zn-A3cM6F95N"
      }
    },
    {
      "cell_type": "markdown",
      "source": [
        "#### **Ordinal (Ordered)**"
      ],
      "metadata": {
        "id": "G_iPJiwKG280"
      }
    },
    {
      "cell_type": "markdown",
      "source": [
        "### **Important of data types**"
      ],
      "metadata": {
        "id": "LShBM8N2G_8u"
      }
    }
  ],
  "metadata": {
    "language_info": {
      "name": "python"
    },
    "orig_nbformat": 4,
    "colab": {
      "provenance": [],
      "toc_visible": true
    }
  },
  "nbformat": 4,
  "nbformat_minor": 0
}